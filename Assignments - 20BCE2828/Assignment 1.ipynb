{
 "cells": [
  {
   "cell_type": "markdown",
   "id": "0549e93e",
   "metadata": {},
   "source": [
    "# ASSIGNMENT 1 - Applied Data Science\n",
    "## Hiya Kulasrestha - 20BCE2828\n",
    "## VIT, Vellore"
   ]
  },
  {
   "cell_type": "markdown",
   "id": "de780a16",
   "metadata": {},
   "source": [
    "### Q1. Assign your Name to variable name and Age to variable age. Make a Python program that prints your name and age."
   ]
  },
  {
   "cell_type": "code",
   "execution_count": 30,
   "id": "389edfa4",
   "metadata": {},
   "outputs": [
    {
     "name": "stdout",
     "output_type": "stream",
     "text": [
      "My name is  Hiya Kulasrestha\n",
      "My age is  20\n"
     ]
    }
   ],
   "source": [
    "name = \"Hiya Kulasrestha\"\n",
    "age = 20\n",
    "\n",
    "print(\"My name is \", name)\n",
    "print(\"My age is \", age)"
   ]
  },
  {
   "cell_type": "markdown",
   "id": "77d6870f",
   "metadata": {},
   "source": [
    "### Q2. X = \"Datascience is used to extract meaningful insights.\" \n",
    "### Split the string."
   ]
  },
  {
   "cell_type": "code",
   "execution_count": 31,
   "id": "37d54bcd",
   "metadata": {},
   "outputs": [
    {
     "name": "stdout",
     "output_type": "stream",
     "text": [
      "['Datascience', 'is', 'used', 'to', 'extract', 'meaningful', 'insights.']\n"
     ]
    }
   ],
   "source": [
    "x = \"Datascience is used to extract meaningful insights.\"\n",
    "\n",
    "new_x = x.split()\n",
    "print(new_x)"
   ]
  },
  {
   "cell_type": "markdown",
   "id": "46d6be0f",
   "metadata": {},
   "source": [
    "### Q3. Make a function that gives multiplication of two numbers"
   ]
  },
  {
   "cell_type": "code",
   "execution_count": 32,
   "id": "4d55ba4f",
   "metadata": {},
   "outputs": [
    {
     "name": "stdout",
     "output_type": "stream",
     "text": [
      "20\n"
     ]
    }
   ],
   "source": [
    "def mul(a,b):\n",
    "    c=a*b\n",
    "    print(c)\n",
    "\n",
    "mul(4,5)"
   ]
  },
  {
   "cell_type": "markdown",
   "id": "89578241",
   "metadata": {},
   "source": [
    "### Q4. Create a Dictionary of 5 States with their capitals. also print the keys and values."
   ]
  },
  {
   "cell_type": "code",
   "execution_count": 33,
   "id": "0560b3f5",
   "metadata": {},
   "outputs": [
    {
     "name": "stdout",
     "output_type": "stream",
     "text": [
      "dict_items([('Maharashtra', 'Mumbai'), ('West Bengal', 'Kolkata'), ('Tamil Nadu', 'Chennai'), ('Karnataka', 'Bangalore'), ('Assam', 'Dispur')])\n",
      "dict_keys(['Maharashtra', 'West Bengal', 'Tamil Nadu', 'Karnataka', 'Assam'])\n",
      "dict_values(['Mumbai', 'Kolkata', 'Chennai', 'Bangalore', 'Dispur'])\n"
     ]
    }
   ],
   "source": [
    "x = {'Maharashtra' : 'Mumbai', 'West Bengal' : 'Kolkata', 'Tamil Nadu': 'Chennai', 'Karnataka' : 'Bangalore', 'Assam' : 'Dispur'}\n",
    "\n",
    "print(x.items())\n",
    "print(x.keys())\n",
    "print(x.values())"
   ]
  },
  {
   "cell_type": "markdown",
   "id": "8de6de19",
   "metadata": {},
   "source": [
    "### Q5. Create a list of 1000 numbers using range function."
   ]
  },
  {
   "cell_type": "code",
   "execution_count": 34,
   "id": "341e2378",
   "metadata": {},
   "outputs": [
    {
     "name": "stdout",
     "output_type": "stream",
     "text": [
      "1000\n"
     ]
    }
   ],
   "source": [
    "x = list(range(1,1001))\n",
    "\n",
    "##print(x)\n",
    "print(len(x))"
   ]
  },
  {
   "cell_type": "markdown",
   "id": "39af7fe3",
   "metadata": {},
   "source": [
    "### Q6. Create an identity matrix of dimension 4 by 4"
   ]
  },
  {
   "cell_type": "code",
   "execution_count": 35,
   "id": "990093f7",
   "metadata": {},
   "outputs": [
    {
     "name": "stdout",
     "output_type": "stream",
     "text": [
      "[[1. 0. 0. 0.]\n",
      " [0. 1. 0. 0.]\n",
      " [0. 0. 1. 0.]\n",
      " [0. 0. 0. 1.]]\n"
     ]
    }
   ],
   "source": [
    "import numpy as np\n",
    "x = np.eye(4)\n",
    "\n",
    "print(x)"
   ]
  },
  {
   "cell_type": "markdown",
   "id": "c5d0c443",
   "metadata": {},
   "source": [
    "### Q7. Create a 3x3 matrix with values ranging from 1 to 9"
   ]
  },
  {
   "cell_type": "code",
   "execution_count": 36,
   "id": "5cd39a10",
   "metadata": {},
   "outputs": [
    {
     "name": "stdout",
     "output_type": "stream",
     "text": [
      "[[1 2 3]\n",
      " [4 5 6]\n",
      " [7 8 9]]\n"
     ]
    }
   ],
   "source": [
    "x =  np.arange(1, 10).reshape(3,3)\n",
    "\n",
    "print(x)"
   ]
  },
  {
   "cell_type": "markdown",
   "id": "d5f2c959",
   "metadata": {},
   "source": [
    "### Q8. Create 2 similar dimensional array and perform sum on them."
   ]
  },
  {
   "cell_type": "code",
   "execution_count": 37,
   "id": "c2c38afa",
   "metadata": {},
   "outputs": [
    {
     "name": "stdout",
     "output_type": "stream",
     "text": [
      "x = \n",
      " [[1 2 3]\n",
      " [4 5 6]\n",
      " [7 8 9]]\n",
      "\n",
      "y = \n",
      " [[11 12 13]\n",
      " [14 15 16]\n",
      " [17 18 19]]\n",
      "\n",
      "x + y = \n",
      " [[12 14 16]\n",
      " [18 20 22]\n",
      " [24 26 28]]\n"
     ]
    }
   ],
   "source": [
    "x = np.arange(1,10).reshape(3,3)\n",
    "y = np.arange(11,20).reshape(3,3)\n",
    "\n",
    "z = x + y\n",
    "print(\"x = \\n\", x)\n",
    "print(\"\\ny = \\n\", y)\n",
    "print(\"\\nx + y = \\n\", z)"
   ]
  },
  {
   "cell_type": "markdown",
   "id": "6ef94409",
   "metadata": {},
   "source": [
    "### Q9. Generate the series of dates from 1st Feb, 2023 to 1st March, 2023 (both inclusive)"
   ]
  },
  {
   "cell_type": "code",
   "execution_count": 38,
   "id": "907e6e5a",
   "metadata": {},
   "outputs": [
    {
     "name": "stdout",
     "output_type": "stream",
     "text": [
      "DatetimeIndex(['2023-02-01', '2023-02-02', '2023-02-03', '2023-02-04',\n",
      "               '2023-02-05', '2023-02-06', '2023-02-07', '2023-02-08',\n",
      "               '2023-02-09', '2023-02-10', '2023-02-11', '2023-02-12',\n",
      "               '2023-02-13', '2023-02-14', '2023-02-15', '2023-02-16',\n",
      "               '2023-02-17', '2023-02-18', '2023-02-19', '2023-02-20',\n",
      "               '2023-02-21', '2023-02-22', '2023-02-23', '2023-02-24',\n",
      "               '2023-02-25', '2023-02-26', '2023-02-27', '2023-02-28',\n",
      "               '2023-03-01'],\n",
      "              dtype='datetime64[ns]', freq='D')\n"
     ]
    }
   ],
   "source": [
    "import datetime\n",
    "import pandas as pd\n",
    "\n",
    "start_date = datetime.datetime.strptime(\"01-02-2023\", \"%d-%m-%Y\")\n",
    "end_date = datetime.datetime.strptime(\"01-03-2023\", \"%d-%m-%Y\")\n",
    "\n",
    "date_list = pd.date_range(start_date, end_date, freq='D')\n",
    "\n",
    "print(date_list)"
   ]
  },
  {
   "cell_type": "markdown",
   "id": "7175591d",
   "metadata": {},
   "source": [
    "### Q10. Given a dictionary, convert it into corresponding dataframe and display it\n",
    "### dictionary = {'Brand': ['Maruti', 'Renault', 'Hyndai'], 'Sales' : [250, 200, 240]}"
   ]
  },
  {
   "cell_type": "code",
   "execution_count": 39,
   "id": "4415ca5b",
   "metadata": {},
   "outputs": [
    {
     "name": "stdout",
     "output_type": "stream",
     "text": [
      "     Brand  Sales\n",
      "0   Maruti    250\n",
      "1  Renault    200\n",
      "2  Hyundai    240\n"
     ]
    }
   ],
   "source": [
    "dictionary = {'Brand': ['Maruti', 'Renault', 'Hyundai'], 'Sales' : [250, 200, 240]}\n",
    "\n",
    "df = pd.DataFrame(dictionary)\n",
    "print(df)"
   ]
  },
  {
   "cell_type": "code",
   "execution_count": null,
   "id": "46cbf3a5",
   "metadata": {},
   "outputs": [],
   "source": []
  }
 ],
 "metadata": {
  "kernelspec": {
   "display_name": "Python 3 (ipykernel)",
   "language": "python",
   "name": "python3"
  },
  "language_info": {
   "codemirror_mode": {
    "name": "ipython",
    "version": 3
   },
   "file_extension": ".py",
   "mimetype": "text/x-python",
   "name": "python",
   "nbconvert_exporter": "python",
   "pygments_lexer": "ipython3",
   "version": "3.10.9"
  }
 },
 "nbformat": 4,
 "nbformat_minor": 5
}
